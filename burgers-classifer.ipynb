{
 "cells": [
  {
   "cell_type": "code",
   "execution_count": 1,
   "metadata": {},
   "outputs": [],
   "source": [
    "import torch\n",
    "import torchvision\n",
    "import torchvision.transforms as transforms\n",
    "import torch.nn as nn\n",
    "import torch.nn.functional as F"
   ]
  },
  {
   "cell_type": "code",
   "execution_count": 2,
   "metadata": {},
   "outputs": [],
   "source": [
    "import numpy as np\n",
    "import matplotlib.pyplot as plt"
   ]
  },
  {
   "cell_type": "code",
   "execution_count": 3,
   "metadata": {},
   "outputs": [
    {
     "name": "stdout",
     "output_type": "stream",
     "text": [
      "(10000, 400)\n",
      "(10000,)\n"
     ]
    }
   ],
   "source": [
    "data_1 = np.load(\"burgers_50k-1.npy\", mmap_mode=\"r\")\n",
    "labels_1 = np.load(\"burgers_50k-1_labels.npy\", mmap_mode=\"r\")\n",
    "data_2 = np.load(\"burgers_50k-2.npy\", mmap_mode=\"r\")\n",
    "labels_2 = np.load(\"burgers_50k-2_labels.npy\", mmap_mode=\"r\")\n",
    "data_3 = np.load(\"burgers_50k-3.npy\", mmap_mode=\"r\")\n",
    "labels_3 = np.load(\"burgers_50k-3_labels.npy\", mmap_mode=\"r\")\n",
    "data_4 = np.load(\"burgers_50k-4.npy\", mmap_mode=\"r\")\n",
    "labels_4 = np.load(\"burgers_50k-4_labels.npy\", mmap_mode=\"r\")\n",
    "data_5 = np.load(\"burgers_50k-5.npy\", mmap_mode=\"r\")\n",
    "labels_5 = np.load(\"burgers_50k-5_labels.npy\", mmap_mode=\"r\")\n",
    "print(data_1.shape)\n",
    "print(labels_1.shape)"
   ]
  },
  {
   "cell_type": "code",
   "execution_count": 4,
   "metadata": {},
   "outputs": [],
   "source": [
    "xs = np.linspace(0, 1, num=400)\n",
    "all_data = np.vstack((data_1, data_2, data_3, data_4, data_5))\n",
    "all_labels = np.hstack((labels_1, labels_2, labels_3, labels_4, labels_5))"
   ]
  },
  {
   "cell_type": "code",
   "execution_count": 5,
   "metadata": {},
   "outputs": [],
   "source": [
    "def show(index):\n",
    "    plt.plot(xs, all_data[index])\n",
    "    print(all_labels[index])"
   ]
  },
  {
   "cell_type": "code",
   "execution_count": 6,
   "metadata": {},
   "outputs": [],
   "source": [
    "final_size = int((((400-20)/4)-15)/4) * 8\n",
    "class Net(nn.Module):\n",
    "    def __init__(self):\n",
    "        super(Net, self).__init__()\n",
    "        self.conv1 = nn.Conv1d(1, 8, 21)\n",
    "        self.pool = nn.MaxPool1d(4)\n",
    "        self.conv2 = nn.Conv1d(8, 8, 16)\n",
    "        self.fc1 = nn.Linear(final_size, 80)\n",
    "        self.fc2 = nn.Linear(80, 2)\n",
    "\n",
    "    def forward(self, x):\n",
    "        x = self.pool(F.relu(self.conv1(x)))\n",
    "        x = self.pool(F.relu(self.conv2(x)))\n",
    "        x = x.view(-1, final_size)\n",
    "        x = F.relu(self.fc1(x))\n",
    "        x = self.fc2(x)\n",
    "        return x\n",
    "\n",
    "\n",
    "net = Net()"
   ]
  },
  {
   "cell_type": "code",
   "execution_count": 7,
   "metadata": {},
   "outputs": [],
   "source": [
    "import torch.optim as optim\n",
    "\n",
    "criterion = nn.CrossEntropyLoss()\n",
    "optimizer = optim.SGD(net.parameters(), lr=0.001, momentum=0.9)"
   ]
  },
  {
   "cell_type": "code",
   "execution_count": 9,
   "metadata": {},
   "outputs": [],
   "source": [
    "def run_one_batch():\n",
    "    index_subset = np.random.choice(50000, 2000, replace=False)\n",
    "    data_subset = all_data[index_subset, :]\n",
    "    label_subset = all_labels[index_subset]\n",
    "    \n",
    "    train_data = torch.from_numpy(np.expand_dims(data_subset[100:], 1))\n",
    "    test_data = torch.from_numpy(np.expand_dims(data_subset[:100], 1))\n",
    "    train_labels = torch.from_numpy(label_subset[100:].astype(\"int64\"))\n",
    "    test_labels = torch.from_numpy(label_subset[:100].astype(\"int64\"))\n",
    "    \n",
    "    \n",
    "    optimizer.zero_grad()\n",
    "\n",
    "    outputs = net(train_data)\n",
    "    loss = criterion(outputs, train_labels)\n",
    "    loss.backward()\n",
    "    optimizer.step()\n",
    "    \n",
    "    outputs = net(test_data)\n",
    "    loss2 = criterion(outputs, test_labels)\n",
    "    return loss.item(), loss2.item()\n"
   ]
  },
  {
   "cell_type": "code",
   "execution_count": 10,
   "metadata": {},
   "outputs": [],
   "source": [
    "# running_loss1 = 0.0\n",
    "# running_loss2 = 0.0\n",
    "# for i in range(1000):\n",
    "#     loss1, loss2 = run_one_batch()\n",
    "#     running_loss1 += loss1\n",
    "#     running_loss2 += loss2\n",
    "#     if i % 100 == 99:\n",
    "#         print(\"Ran {} trials, training: {}, testing: {}\".format(i+1, running_loss1/100, running_loss2/100))\n",
    "#         running_loss1 = 0.0\n",
    "#         running_loss2 = 0.0"
   ]
  },
  {
   "cell_type": "code",
   "execution_count": 11,
   "metadata": {},
   "outputs": [],
   "source": [
    "# torch.save(net.state_dict(), \"burgers_net_gen.pth\")\n"
   ]
  },
  {
   "cell_type": "code",
   "execution_count": 16,
   "metadata": {},
   "outputs": [
    {
     "data": {
      "text/plain": [
       "Net(\n",
       "  (conv1): Conv1d(1, 8, kernel_size=(21,), stride=(1,))\n",
       "  (pool): MaxPool1d(kernel_size=4, stride=4, padding=0, dilation=1, ceil_mode=False)\n",
       "  (conv2): Conv1d(8, 8, kernel_size=(16,), stride=(1,))\n",
       "  (fc1): Linear(in_features=160, out_features=80, bias=True)\n",
       "  (fc2): Linear(in_features=80, out_features=2, bias=True)\n",
       ")"
      ]
     },
     "execution_count": 16,
     "metadata": {},
     "output_type": "execute_result"
    }
   ],
   "source": [
    "model = Net()\n",
    "model.load_state_dict(torch.load(\"burgers_net_gen.pth\"))\n",
    "model.eval()"
   ]
  },
  {
   "cell_type": "code",
   "execution_count": 17,
   "metadata": {},
   "outputs": [
    {
     "name": "stdout",
     "output_type": "stream",
     "text": [
      "Predictions:  10000\n",
      "Hits:         9661\n",
      "Accuracy:     0.9661\n",
      "Totally new data loss:  0.09024685621261597\n"
     ]
    }
   ],
   "source": [
    "data_unseen = np.load(\"burgers_testing_only.npy\", mmap_mode=\"r\")\n",
    "labels_unseen = np.load(\"burgers_testing_only_labels.npy\", mmap_mode=\"r\")\n",
    "unseen_data = torch.from_numpy(np.expand_dims(data_unseen, 1))\n",
    "unseen_labels = torch.from_numpy(labels_unseen.astype(\"int64\"))\n",
    "unseen_outputs = model(unseen_data)\n",
    "unseen_loss = criterion(unseen_outputs, unseen_labels)\n",
    "unseen_predictions = unseen_outputs[:, 1] > unseen_outputs[:, 0]\n",
    "correct = (unseen_labels == 0) ^ unseen_predictions\n",
    "total_count = len(correct)\n",
    "hits = int(correct.sum())\n",
    "print(\"Predictions: \", len(correct))\n",
    "print(\"Hits:        \", hits)\n",
    "print(\"Accuracy:    \", hits / total_count)\n",
    "print(\"Totally new data loss: \", unseen_loss.item())"
   ]
  },
  {
   "cell_type": "code",
   "execution_count": 18,
   "metadata": {},
   "outputs": [
    {
     "name": "stdout",
     "output_type": "stream",
     "text": [
      "Predictions:  10000\n",
      "Hits:         9461\n",
      "Accuracy:     0.9461\n",
      "Totally new data loss:  0.154155895113945\n"
     ]
    }
   ],
   "source": [
    "data_unseen = np.load(\"burgers_alt.npy\", mmap_mode=\"r\")\n",
    "labels_unseen = np.load(\"burgers_alt_labels.npy\", mmap_mode=\"r\")\n",
    "unseen_data = torch.from_numpy(np.expand_dims(data_unseen, 1))\n",
    "unseen_labels = torch.from_numpy(labels_unseen.astype(\"int64\"))\n",
    "unseen_outputs = model(unseen_data)\n",
    "unseen_loss = criterion(unseen_outputs, unseen_labels)\n",
    "unseen_predictions = unseen_outputs[:, 1] > unseen_outputs[:, 0]\n",
    "correct = (unseen_labels == 0) ^ unseen_predictions\n",
    "total_count = len(correct)\n",
    "hits = int(correct.sum())\n",
    "print(\"Predictions: \", len(correct))\n",
    "print(\"Hits:        \", hits)\n",
    "print(\"Accuracy:    \", hits / total_count)\n",
    "print(\"Totally new data loss: \", unseen_loss.item())"
   ]
  },
  {
   "cell_type": "code",
   "execution_count": null,
   "metadata": {},
   "outputs": [],
   "source": []
  }
 ],
 "metadata": {
  "kernelspec": {
   "display_name": "Python 3",
   "language": "python",
   "name": "python3"
  },
  "language_info": {
   "codemirror_mode": {
    "name": "ipython",
    "version": 3
   },
   "file_extension": ".py",
   "mimetype": "text/x-python",
   "name": "python",
   "nbconvert_exporter": "python",
   "pygments_lexer": "ipython3",
   "version": "3.6.9"
  }
 },
 "nbformat": 4,
 "nbformat_minor": 2
}
